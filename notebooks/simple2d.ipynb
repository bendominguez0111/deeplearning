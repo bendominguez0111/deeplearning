{
 "cells": [
  {
   "cell_type": "markdown",
   "id": "b8691619-9cb9-4696-8e59-edf029fad733",
   "metadata": {},
   "source": [
    "https://ncbi.nlm.nih.gov/pmc/articles/PMC9583843/"
   ]
  },
  {
   "cell_type": "code",
   "execution_count": 57,
   "id": "0c0b4b43-d0be-49c0-b4a1-04fd46cb0cd8",
   "metadata": {},
   "outputs": [],
   "source": [
    "import numpy as np\n",
    "from matplotlib.figure import Figure\n",
    "from io import BytesIO\n",
    "from matplotlib import pyplot as plt\n",
    "import cv2"
   ]
  },
  {
   "cell_type": "code",
   "execution_count": 56,
   "id": "46ba8c4b-a84a-4669-997d-6bbe589fd15b",
   "metadata": {},
   "outputs": [
    {
     "name": "stdout",
     "output_type": "stream",
     "text": [
      "Collecting opencv-python\n",
      "  Downloading opencv_python-4.9.0.80-cp37-abi3-manylinux_2_17_x86_64.manylinux2014_x86_64.whl (62.2 MB)\n",
      "\u001b[2K     \u001b[38;2;114;156;31m━━━━━━━━━━━━━━━━━━━━━━━━━━━━━━━━━━━━━━━━\u001b[0m \u001b[32m62.2/62.2 MB\u001b[0m \u001b[31m10.0 MB/s\u001b[0m eta \u001b[36m0:00:00\u001b[0mm eta \u001b[36m0:00:01\u001b[0m0:01\u001b[0m:01\u001b[0m\n",
      "\u001b[?25hRequirement already satisfied: numpy>=1.17.3 in ./.venv/lib/python3.10/site-packages (from opencv-python) (1.26.2)\n",
      "Installing collected packages: opencv-python\n",
      "Successfully installed opencv-python-4.9.0.80\n",
      "Note: you may need to restart the kernel to use updated packages.\n"
     ]
    }
   ],
   "source": [
    "%pip install opencv-python"
   ]
  },
  {
   "cell_type": "code",
   "execution_count": 173,
   "id": "0b62f409-a647-4d3a-b91c-10e22f47a271",
   "metadata": {},
   "outputs": [
    {
     "data": {
      "image/png": "[encoded data removed]",
      "text/plain": [
       "<Figure size 640x480 with 1 Axes>"
      ]
     },
     "metadata": {},
     "output_type": "display_data"
    }
   ],
   "source": [
    "class Simple2DSample:\n",
    "    def __init__(\n",
    "            self, \n",
    "            number, \n",
    "            color,\n",
    "            gaussian_mean=0,\n",
    "            gaussian_var=0.01,\n",
    "            optical_distortion_factor=0.5\n",
    "        ):\n",
    "        self.number = str(number)\n",
    "        self.color = color\n",
    "        self.gaussian_mean = gaussian_mean\n",
    "        self.gaussian_var = gaussian_var\n",
    "        self.optical_distortion_factor = optical_distortion_factor\n",
    "        self.img = text_to_rgba(self.number, color=\"blue\", fontsize=20, dpi=200)\n",
    "\n",
    "    def generate_light_t(self):\n",
    "        return self.add_optical_distortion(self.add_gaussian_noise(self.img))\n",
    "\n",
    "    def generate_medium_t(self):\n",
    "        return self.apply_grid_distortion(self.generate_light_t())\n",
    "\n",
    "    def generate_hard_t(self):\n",
    "        return self.add_random_shift_scale_rotate(self.shuffle_rgb_channels(self.generate_medium_t()))\n",
    "\n",
    "    def text_to_rgba(self, s, *, dpi, **kwargs):\n",
    "        fig = Figure(facecolor='none')\n",
    "        fig.text(0, 0, s, **kwargs)\n",
    "        with BytesIO() as buf:\n",
    "            fig.savefig(buf, dpi=dpi, format='png', bbox_inches='tight', pad_inches=0.2)\n",
    "            buf.seek(0)\n",
    "            rgba = plt.imread(buf)\n",
    "    \n",
    "        # remove alpha chan\n",
    "        img = (rgba * 255).astype(np.uint8)\n",
    "        return img\n",
    "\n",
    "    def add_gaussian_noise(self, img):\n",
    "        row, col, ch = img.shape\n",
    "        sigma = self.gaussian_var**0.5\n",
    "        g = np.random.normal(self.gaussian_mean, sigma, (row, col, ch))\n",
    "        g = g.reshape(row, col, ch)\n",
    "        img = np.clip(g+img, 0, 1)\n",
    "        return img\n",
    "\n",
    "    def shuffle_rgb_channels(self, image):\n",
    "        channels = cv2.split(image)\n",
    "        np.random.shuffle(channels)\n",
    "        shuffled_image = cv2.merge(channels)\n",
    "        return shuffled_image\n",
    "\n",
    "    def add_optical_distortion(self, img):\n",
    "        height, width = img.shape[:2]\n",
    "        camera_matrix = np.array([[width, 0, width / 2],\n",
    "                                  [0, height, height / 2],\n",
    "                                  [0, 0, 1]], dtype=np.float32)\n",
    "        dist_coeffs = np.array([\n",
    "            np.random.uniform(-1, 1), \n",
    "            np.random.uniform(-1, 1), \n",
    "            np.random.uniform(-0.1, 0.1), 0, 0], dtype=np.float32)\n",
    "        distorted_image = cv2.undistort(img, camera_matrix, dist_coeffs)\n",
    "        return distorted_image\n",
    "\n",
    "    def add_random_shift_scale_rotate(self, img):\n",
    "        rows, cols = img.shape[:2]\n",
    "        dx, dy = np.random.randint(-10, 10, 2)\n",
    "        scale = np.random.uniform(0.9, 1.1)\n",
    "        rotation = np.random.uniform(-15, 15)\n",
    "        M = cv2.getRotationMatrix2D((cols/2, rows/2), rotation, scale)\n",
    "        M[0, 2] += dx\n",
    "        M[1, 2] += dy\n",
    "        transformed_image = cv2.warpAffine(img, M, (cols, rows))\n",
    "        return transformed_image\n",
    "\n",
    "    def apply_grid_distortion(self, image, num_steps=10, distortion=1):\n",
    "        height, width = image.shape[:2]\n",
    "    \n",
    "        # Create the original and distorted grid points\n",
    "        x = np.linspace(0, width, num_steps + 1)\n",
    "        y = np.linspace(0, height, num_steps + 1)\n",
    "        grid_x, grid_y = np.meshgrid(x, y)\n",
    "        distorted_grid_x = grid_x + np.random.normal(0, distortion, grid_x.shape)\n",
    "        distorted_grid_y = grid_y + np.random.normal(0, distortion, grid_y.shape)\n",
    "    \n",
    "        # Interpolate the grid to create the map\n",
    "        map_x = cv2.resize(distorted_grid_x, (width, height)).astype(np.float32)\n",
    "        map_y = cv2.resize(distorted_grid_y, (width, height)).astype(np.float32)\n",
    "    \n",
    "        # Apply the distortion\n",
    "        distorted_image = cv2.remap(image, map_x, map_y, interpolation=cv2.INTER_LINEAR, \n",
    "                                    borderMode=cv2.BORDER_REFLECT_101)\n",
    "    \n",
    "        return distorted_image\n",
    "\n",
    "n = Simple2DSample(2, color='blue')\n",
    "light_img = n.generate_light_t()\n",
    "medium_img = n.generate_medium_t()\n",
    "plt.imshow(medium_img);"
   ]
  },
  {
   "cell_type": "code",
   "execution_count": 100,
   "id": "ee4dd975-5063-4999-9f52-0a69d7a115ae",
   "metadata": {},
   "outputs": [
    {
     "data": {
      "text/plain": [
       "array([[[1., 1., 1., 0.],\n",
       "        [1., 1., 1., 0.],\n",
       "        [1., 1., 1., 0.],\n",
       "        ...,\n",
       "        [1., 1., 1., 0.],\n",
       "        [1., 1., 1., 0.],\n",
       "        [1., 1., 1., 0.]],\n",
       "\n",
       "       [[1., 1., 1., 0.],\n",
       "        [1., 1., 1., 0.],\n",
       "        [1., 1., 1., 0.],\n",
       "        ...,\n",
       "        [1., 1., 1., 0.],\n",
       "        [1., 1., 1., 0.],\n",
       "        [1., 1., 1., 0.]],\n",
       "\n",
       "       [[1., 1., 1., 0.],\n",
       "        [1., 1., 1., 0.],\n",
       "        [1., 1., 1., 0.],\n",
       "        ...,\n",
       "        [1., 1., 1., 0.],\n",
       "        [1., 1., 1., 0.],\n",
       "        [1., 1., 1., 0.]],\n",
       "\n",
       "       ...,\n",
       "\n",
       "       [[1., 1., 1., 0.],\n",
       "        [1., 1., 1., 0.],\n",
       "        [1., 1., 1., 0.],\n",
       "        ...,\n",
       "        [1., 1., 1., 0.],\n",
       "        [1., 1., 1., 0.],\n",
       "        [1., 1., 1., 0.]],\n",
       "\n",
       "       [[1., 1., 1., 0.],\n",
       "        [1., 1., 1., 0.],\n",
       "        [1., 1., 1., 0.],\n",
       "        ...,\n",
       "        [1., 1., 1., 0.],\n",
       "        [1., 1., 1., 0.],\n",
       "        [1., 1., 1., 0.]],\n",
       "\n",
       "       [[1., 1., 1., 0.],\n",
       "        [1., 1., 1., 0.],\n",
       "        [1., 1., 1., 0.],\n",
       "        ...,\n",
       "        [1., 1., 1., 0.],\n",
       "        [1., 1., 1., 0.],\n",
       "        [1., 1., 1., 0.]]], dtype=float32)"
      ]
     },
     "execution_count": 100,
     "metadata": {},
     "output_type": "execute_result"
    }
   ],
   "source": [
    "v"
   ]
  },
  {
   "cell_type": "code",
   "execution_count": null,
   "id": "a87aa6c8-b42d-4c3e-8c05-1b27661f874b",
   "metadata": {},
   "outputs": [],
   "source": []
  }
 ],
 "metadata": {
  "kernelspec": {
   "display_name": "Python 3 (ipykernel)",
   "language": "python",
   "name": "python3"
  },
  "language_info": {
   "codemirror_mode": {
    "name": "ipython",
    "version": 3
   },
   "file_extension": ".py",
   "mimetype": "text/x-python",
   "name": "python",
   "nbconvert_exporter": "python",
   "pygments_lexer": "ipython3",
   "version": "3.10.12"
  }
 },
 "nbformat": 4,
 "nbformat_minor": 5
}
